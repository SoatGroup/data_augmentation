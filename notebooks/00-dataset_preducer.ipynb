{
 "cells": [
  {
   "cell_type": "code",
   "execution_count": 1,
   "metadata": {},
   "outputs": [],
   "source": [
    "import os\n",
    "import tensorflow as tf\n",
    "import numpy as np\n",
    "import pathlib\n",
    "from tqdm import tqdm\n",
    "import platform"
   ]
  },
  {
   "cell_type": "code",
   "execution_count": 2,
   "metadata": {},
   "outputs": [],
   "source": [
    "SYS_SEP = '\\\\' if platform.system()=='Windows' else '/'\n",
    "PATH = \"../data/train\"\n",
    "# os.chdir(path)\n",
    "directory = os.listdir(PATH)\n",
    "list_image, list_labels = [], []\n"
   ]
  },
  {
   "cell_type": "code",
   "execution_count": 3,
   "metadata": {},
   "outputs": [],
   "source": [
    "def process_path(file_path):\n",
    "    parts = tf.strings.split(file_path, SYS_SEP)\n",
    "\n",
    "    return file_path, int(parts[-2] == b'Positive')\n",
    "\n",
    "def load_dataset(data_root=\"../data/\" ):\n",
    "    data_root = pathlib.Path(data_root)\n",
    "    list_dirs = [str(data_root/'*/*.jpg'),str(data_root/'*/*.png')]\n",
    "    \n",
    "    list_ds = tf.data.Dataset.list_files(list_dirs)\n",
    "    \n",
    "    SIZE = len(list(list_ds))\n",
    "    labeled_ds = list_ds.map(process_path)\n",
    "      \n",
    "    return labeled_ds, SIZE\n"
   ]
  },
  {
   "cell_type": "code",
   "execution_count": 4,
   "metadata": {},
   "outputs": [],
   "source": [
    "labeled_ds,SIZE = load_dataset(PATH)\n"
   ]
  },
  {
   "cell_type": "code",
   "execution_count": 5,
   "metadata": {},
   "outputs": [
    {
     "name": "stderr",
     "output_type": "stream",
     "text": [
      "10357it [00:36, 287.29it/s]\n"
     ]
    }
   ],
   "source": [
    "IMAGE_SIZE = 64\n",
    "    \n",
    "for img, classe in tqdm(labeled_ds):\n",
    "    image = tf.io.read_file(img)\n",
    "    image = tf.image.decode_image(image, channels=1)\n",
    "\n",
    "    # Adjusting Contrast \n",
    "    image = tf.image.resize_with_pad(image,target_height=IMAGE_SIZE,\n",
    "                                     target_width=IMAGE_SIZE,\n",
    "                                     antialias=True,method='gaussian')\n",
    "\n",
    "    image = tf.image.adjust_contrast(image, contrast_factor=2.91)\n",
    "\n",
    "    image = tf.cast(image, tf.float32)\n",
    "    image = tf.math.divide(image,255.0)  # normalize to [0,1] range\n",
    "\n",
    "    list_image.append(image.numpy())\n",
    "    list_labels.append(classe)\n",
    "\n"
   ]
  },
  {
   "cell_type": "code",
   "execution_count": 8,
   "metadata": {},
   "outputs": [
    {
     "name": "stdout",
     "output_type": "stream",
     "text": [
      "../data/traindata-images.npy\n",
      "../data/traindata-labels.npy\n",
      "Done...!\n"
     ]
    }
   ],
   "source": [
    "x = np.asarray(list_image)\n",
    "y = np.asarray(list_labels)\n",
    "\n",
    "np.save(os.path.join(PATH,\"data-images.npy\"), x)\n",
    "np.save(os.path.join(PATH,\"data-labels.npy\"), y)\n",
    "\n",
    "\n",
    "print(PATH+\"data-images.npy\\n\"+PATH+\"data-labels.npy\\n\"+\"Done...!\")\n"
   ]
  },
  {
   "cell_type": "code",
   "execution_count": 9,
   "metadata": {},
   "outputs": [
    {
     "data": {
      "text/plain": [
       "(10357, 64, 64, 1)"
      ]
     },
     "execution_count": 9,
     "metadata": {},
     "output_type": "execute_result"
    }
   ],
   "source": [
    "x.shape"
   ]
  },
  {
   "cell_type": "code",
   "execution_count": null,
   "metadata": {},
   "outputs": [],
   "source": []
  }
 ],
 "metadata": {
  "kernelspec": {
   "display_name": "Python 3",
   "language": "python",
   "name": "python3"
  },
  "language_info": {
   "codemirror_mode": {
    "name": "ipython",
    "version": 3
   },
   "file_extension": ".py",
   "mimetype": "text/x-python",
   "name": "python",
   "nbconvert_exporter": "python",
   "pygments_lexer": "ipython3",
   "version": "3.7.4"
  }
 },
 "nbformat": 4,
 "nbformat_minor": 2
}
